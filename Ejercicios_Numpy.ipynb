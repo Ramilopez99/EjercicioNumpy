{
  "cells": [
    {
      "cell_type": "markdown",
      "metadata": {
        "id": "view-in-github",
        "colab_type": "text"
      },
      "source": [
        "<a href=\"https://colab.research.google.com/github/Ramilopez99/EjercicioNumpy/blob/main/Ejercicios_Numpy.ipynb\" target=\"_parent\"><img src=\"https://colab.research.google.com/assets/colab-badge.svg\" alt=\"Open In Colab\"/></a>"
      ]
    },
    {
      "cell_type": "markdown",
      "metadata": {
        "id": "ndQAojv3qwbX"
      },
      "source": [
        "# Ejercicios NumPy"
      ]
    },
    {
      "cell_type": "code",
      "execution_count": null,
      "metadata": {
        "id": "Cn_kZQjUYDQ4"
      },
      "outputs": [],
      "source": [
        "from PIL import Image\n",
        "from random import randint\n",
        "import numpy as np\n",
        "import matplotlib.pyplot as plt\n",
        "\n",
        "\n",
        "class OperacionesImg:\n",
        "\n",
        "    def crearImagen(pixel_x, pixel_y, color):\n",
        "        data = np.zeros((pixel_x, pixel_y, 3), dtype=np.uint8)\n",
        "        for i in range(0, data.shape[0]):\n",
        "            for j in range(0, data.shape[1]):\n",
        "                data[i, j] = color\n",
        "\n",
        "        img = Image.fromarray(data)\n",
        "        return img\n",
        "\n",
        "    def crearColor():\n",
        "        return [randint(0, 255), randint(0, 255), randint(0, 255)]\n",
        "\n",
        "    def crearCollage(ancho, alto, pixel_x, pixel_y):\n",
        "        for i in range(0, alto):\n",
        "            for j in range(0, ancho):\n",
        "                if j == 0:\n",
        "                    fila = OperacionesImg.crearImagen(pixel_x, pixel_y, OperacionesImg.crearColor())\n",
        "                else:\n",
        "                    fila = np.hstack((fila, OperacionesImg.crearImagen(pixel_x, pixel_y, OperacionesImg.crearColor())))\n",
        "            if i == 0:\n",
        "                collage = fila\n",
        "            else:\n",
        "                collage = np.vstack((collage, fila))\n",
        "\n",
        "        img = Image.fromarray(collage)\n",
        "        return img\n",
        "\n",
        "    def redimensionar(img, ancho, alto):\n",
        "        img = img.resize((ancho, alto))\n",
        "        return img\n",
        "\n",
        "    def redimensionarAncho(img, ancho):\n",
        "        alto = int((ancho * img.height) / img.width)\n",
        "        img = OperacionesImg.redimensionar(img, ancho, alto)\n",
        "        return img\n",
        "\n",
        "    def redimensionarAlto(img, alto):\n",
        "        ancho = int((alto * img.width) / img.height)\n",
        "        img = OperacionesImg.redimensionar(img, ancho, alto)\n",
        "        return img\n",
        "\n",
        "    def recorte(img, pos_x, pos_y, ancho, alto):\n",
        "        img = np.asanyarray(img)\n",
        "        img_width = img.shape[1]\n",
        "        img_height = img.shape[0]\n",
        "\n",
        "        if pos_x+ancho > img_width and pos_y+alto > img_height:\n",
        "            collage = img[pos_y:img_height, pos_x:img_width]\n",
        "        elif pos_x+ancho > img_width:\n",
        "            collage = img[pos_y:alto, pos_x:img_width]\n",
        "        elif pos_y+alto > img_height:\n",
        "            collage = img[pos_y:img_height, pos_x:ancho]\n",
        "        else:\n",
        "            collage = img[pos_y:alto, pos_x:ancho]\n",
        "\n",
        "        img = Image.fromarray(collage)\n",
        "        return img\n",
        "    \n",
        "    def apilar(orientacion, img1, img2):\n",
        "        if orientacion == \"horizontal\":\n",
        "            if img1.height > img2.height:\n",
        "                img2 = OperacionesImg.redimensionarAlto(img2, img1.height)\n",
        "            elif img2.height > img1.height:\n",
        "                img1 = OperacionesImg.redimensionarAlto(img1, img2.height)\n",
        "\n",
        "            img1 = np.asanyarray(img1)\n",
        "            img2 = np.asanyarray(img2)\n",
        "            img = np.hstack([img1, img2])\n",
        "\n",
        "        elif orientacion == \"vertical\":\n",
        "            if img1.width > img2.width:\n",
        "                img2 = OperacionesImg.redimensionarAncho(img2, img1.width)\n",
        "            elif img2.width > img1.width:\n",
        "                img1 = OperacionesImg.redimensionarAncho(img1, img2.width)\n",
        "\n",
        "            img1 = np.asanyarray(img1)\n",
        "            img2 = np.asanyarray(img2)\n",
        "            img = np.vstack([img1, img2])\n",
        "\n",
        "        res = Image.fromarray(img)\n",
        "        return res\n",
        "    \n",
        "    def apilarDeforme(orientacion, img1, img2):\n",
        "        if orientacion == \"horizontal\":\n",
        "            if img1.height > img2.height:\n",
        "                img2 = OperacionesImg.redimensionar(img2, img2.width, img1.height)\n",
        "            elif img2.height > img1.height:\n",
        "                img1 = OperacionesImg.redimensionar(img1, img1.width, img2.height)\n",
        "\n",
        "            img1 = np.asanyarray(img1)\n",
        "            img2 = np.asanyarray(img2)\n",
        "            img = np.hstack([img1, img2])\n",
        "\n",
        "        elif orientacion == \"vertical\":\n",
        "            if img1.width > img2.width:\n",
        "                img2 = OperacionesImg.redimensionar(img2, img1.width, img2.height)\n",
        "            elif img2.width > img1.width:\n",
        "                img1 = OperacionesImg.redimensionar(img1, img2.width, img1.height)\n",
        "\n",
        "            img1 = np.asanyarray(img1)\n",
        "            img2 = np.asanyarray(img2)\n",
        "            img = np.vstack([img1, img2])\n",
        "\n",
        "        res = Image.fromarray(img)\n",
        "        return res\n",
        "\n",
        "    def insertarImg(img1, img2, pos_x, pos_y):\n",
        "        img1 = np.asanyarray(img1)\n",
        "        img1_width = img1.shape[1]\n",
        "        img1_height = img1.shape[0]\n",
        "        copia = np.copy(img1)\n",
        "\n",
        "        img2 = np.asanyarray(img2)\n",
        "        img2_width = img2.shape[1]\n",
        "        img2_height = img2.shape[0]\n",
        "\n",
        "        if pos_x+img2_width > img1_width and pos_y+img2_height > img1_height:\n",
        "            copia[pos_y: img1_height, pos_x: img1_width] = img2[0: img1_height - pos_y, 0: img1_width - pos_x]\n",
        "            \n",
        "        elif pos_x+img2_width > img1_width:\n",
        "            copia[pos_y: pos_y + img2_height, pos_x: img1_width] = img2[0: img2_height, 0: img1_width - pos_x]\n",
        "            \n",
        "        elif pos_y+img2_height > img1_height:\n",
        "            copia[pos_y: img1_height, pos_x: pos_x + img2_width] = img2[0: img1_height - pos_y, 0: img2_width]\n",
        "            \n",
        "        else:\n",
        "            copia[pos_y: pos_y + img2_height, pos_x: pos_x + img2_width] = img2[0: img2_height, 0: img2_width]\n",
        "\n",
        "        copia = Image.fromarray(copia)\n",
        "        return copia\n",
        "        \n",
        "    def insertarImgRedimensionada(img1, img2, pos_x, pos_y, ancho, alto):\n",
        "\n",
        "        img2 = OperacionesImg.redimensionar(img2, ancho, alto)\n",
        "\n",
        "        img1 = np.asanyarray(img1)\n",
        "        img1_width = img1.shape[1]\n",
        "        img1_height = img1.shape[0]\n",
        "        copia = np.copy(img1)\n",
        "\n",
        "        img2 = np.asanyarray(img2)\n",
        "        img2_width = img2.shape[1]\n",
        "        img2_height = img2.shape[0]\n",
        "\n",
        "        if pos_x+img2_width > img1_width and pos_y+img2_height > img1_height:\n",
        "            copia[pos_y: img1_height, pos_x: img1_width] = img2[0: img1_height - pos_y, 0: img1_width - pos_x]\n",
        "            \n",
        "        elif pos_x+img2_width > img1_width:\n",
        "            copia[pos_y: pos_y + img2_height, pos_x: img1_width] = img2[0: img2_height, 0: img1_width - pos_x]\n",
        "            \n",
        "        elif pos_y+img2_height > img1_height:\n",
        "            copia[pos_y: img1_height, pos_x: pos_x + img2_width] = img2[0: img1_height - pos_y, 0: img2_width]\n",
        "            \n",
        "        else:\n",
        "            copia[pos_y: pos_y + img2_height, pos_x: pos_x + img2_width] = img2[0: img2_height, 0: img2_width]\n",
        "\n",
        "        copia = Image.fromarray(copia)\n",
        "        return copia\n",
        "\n",
        "imagen = OperacionesImg"
      ]
    },
    {
      "cell_type": "markdown",
      "metadata": {
        "id": "dQArXiqpqwbi"
      },
      "source": [
        "### a) Implementa un método al que se le pase el ancho y el alto de la imagen y el color de la misma. El método debe devolver la imagen creada."
      ]
    },
    {
      "cell_type": "code",
      "execution_count": null,
      "metadata": {
        "colab": {
          "base_uri": "https://localhost:8080/",
          "height": 97
        },
        "id": "VV2c88ZuwrxH",
        "outputId": "bff9e19c-4e23-4a13-fd20-64ae32f338a5"
      },
      "outputs": [
        {
          "output_type": "execute_result",
          "data": {
            "text/plain": [
              "<PIL.Image.Image image mode=RGB size=80x80 at 0x7FF1424258D0>"
            ],
            "image/png": "[encoded data removed]"
          },
          "metadata": {},
          "execution_count": 2
        }
      ],
      "source": [
        "color = [randint(0, 255), randint(0, 255), randint(0, 255)]\n",
        "imagen.crearImagen(80, 80, color)"
      ]
    },
    {
      "cell_type": "markdown",
      "metadata": {
        "id": "HCDY1B6eqwbk"
      },
      "source": [
        "### b) Implementa un método al que se le pasa el número de elementos horizontales y verticales, así como el ancho y el alto de los elementos horizontales y verticales y que devuelva la imagen creada con un color de fondo diferente para cada elemento."
      ]
    },
    {
      "cell_type": "code",
      "execution_count": null,
      "metadata": {
        "colab": {
          "base_uri": "https://localhost:8080/",
          "height": 197
        },
        "id": "vrXaaqFEqwbk",
        "outputId": "8d2a0cbc-4bb1-4dae-cbb8-5751c04bf6b0"
      },
      "outputs": [
        {
          "output_type": "execute_result",
          "data": {
            "text/plain": [
              "<PIL.Image.Image image mode=RGB size=160x180 at 0x7FF13CD89310>"
            ],
            "image/png": "[encoded data removed]"
          },
          "metadata": {},
          "execution_count": 3
        }
      ],
      "source": [
        "img = imagen.crearCollage(8, 9, 20, 20)\n",
        "img"
      ]
    },
    {
      "cell_type": "markdown",
      "metadata": {
        "id": "Hqd3QLvoqwbo"
      },
      "source": [
        "### c) Implementa un método que redimensiona una imagen al ancho y alto especificado, este método deforma la imagen si la relación de aspecto no es la misma."
      ]
    },
    {
      "cell_type": "code",
      "execution_count": null,
      "metadata": {
        "colab": {
          "base_uri": "https://localhost:8080/",
          "height": 137
        },
        "id": "IB5JUBruwz_-",
        "outputId": "9bd3c6dd-574d-4f0f-bf1e-afe8a8edbd98"
      },
      "outputs": [
        {
          "output_type": "execute_result",
          "data": {
            "text/plain": [
              "<PIL.Image.Image image mode=RGB size=200x120 at 0x7FF142AAB1D0>"
            ],
            "image/png": "[encoded data removed]"
          },
          "metadata": {},
          "execution_count": 5
        }
      ],
      "source": [
        "imagen.redimensionar(img, 200, 120)"
      ]
    },
    {
      "cell_type": "markdown",
      "metadata": {
        "id": "u0yb7poFqwbp"
      },
      "source": [
        "### d) Implementa un método que redimensiona una imagen al ancho especificado, sin deformar la imagen."
      ]
    },
    {
      "cell_type": "code",
      "execution_count": null,
      "metadata": {
        "colab": {
          "base_uri": "https://localhost:8080/",
          "height": 129
        },
        "id": "oFdLa0cA0AEY",
        "outputId": "63628842-c3b3-47db-807f-7d4a5dd970bb"
      },
      "outputs": [
        {
          "output_type": "execute_result",
          "data": {
            "text/plain": [
              "<PIL.Image.Image image mode=RGB size=100x112 at 0x7FF13CD9F290>"
            ],
            "image/png": "[encoded data removed]"
          },
          "metadata": {},
          "execution_count": 6
        }
      ],
      "source": [
        "imagen.redimensionarAncho(img, 100)"
      ]
    },
    {
      "cell_type": "markdown",
      "metadata": {
        "id": "Jgf5R2Z-qwbq"
      },
      "source": [
        "### e) Implementa un método que redimensiona una imagen al alto especificado, sin deformar la imagen."
      ]
    },
    {
      "cell_type": "code",
      "execution_count": null,
      "metadata": {
        "colab": {
          "base_uri": "https://localhost:8080/",
          "height": 87
        },
        "id": "haxIJjic-LzK",
        "outputId": "c43a9b0e-b5b4-4b80-b71b-2f48ff5c58c2"
      },
      "outputs": [
        {
          "output_type": "execute_result",
          "data": {
            "text/plain": [
              "<PIL.Image.Image image mode=RGB size=62x70 at 0x7FF13CD89690>"
            ],
            "image/png": "[encoded data removed]"
          },
          "metadata": {},
          "execution_count": 7
        }
      ],
      "source": [
        "imagen.redimensionarAlto(img, 70)"
      ]
    },
    {
      "cell_type": "markdown",
      "metadata": {
        "id": "VICD9fXMqwbr"
      },
      "source": [
        "### f) Implementa un método que devuelva un trozo de una imagen especificando la posición horizontal y vertical y el ancho y el alto, si las dimensiones especificadas son superiores a la imagen original, debe devolver el recorte disponible.\n"
      ]
    },
    {
      "cell_type": "code",
      "execution_count": null,
      "metadata": {
        "colab": {
          "base_uri": "https://localhost:8080/",
          "height": 106
        },
        "id": "RgRZnkFdqwbs",
        "outputId": "c7d36dca-00f2-4938-deaa-e4af2c8e29fe"
      },
      "outputs": [
        {
          "output_type": "execute_result",
          "data": {
            "text/plain": [
              "<PIL.Image.Image image mode=RGB size=93x89 at 0x7FF13CDFC310>"
            ],
            "image/png": "[encoded data removed]"
          },
          "metadata": {},
          "execution_count": 8
        }
      ],
      "source": [
        "imagen.recorte(img, 10, 15, 103, 104)"
      ]
    },
    {
      "cell_type": "markdown",
      "metadata": {
        "id": "_AdqSE5Fqwbs"
      },
      "source": [
        "### g) Implementa un método que apile dos imágenes horizontal o verticalmente, sin deformarlas. El método debe especificar en sus argumentos qué dimensiones son las que se deben adaptar."
      ]
    },
    {
      "cell_type": "code",
      "execution_count": null,
      "metadata": {
        "id": "akm5lu13qwbt"
      },
      "outputs": [],
      "source": [
        "img1 = img"
      ]
    },
    {
      "cell_type": "code",
      "execution_count": null,
      "metadata": {
        "colab": {
          "base_uri": "https://localhost:8080/",
          "height": 197
        },
        "id": "CVxn9-8Fqwbt",
        "outputId": "efd78165-afe2-4486-b467-103c8e53b85e"
      },
      "outputs": [
        {
          "output_type": "execute_result",
          "data": {
            "text/plain": [
              "<PIL.Image.Image image mode=RGB size=320x180 at 0x7FF13CD9CD50>"
            ],
            "image/png": "[encoded data removed]"
          },
          "metadata": {},
          "execution_count": 10
        }
      ],
      "source": [
        "img1 = imagen.apilar(\"horizontal\", img1, img1)\n",
        "img1"
      ]
    },
    {
      "cell_type": "code",
      "execution_count": null,
      "metadata": {
        "colab": {
          "base_uri": "https://localhost:8080/",
          "height": 377
        },
        "id": "TS3q25U3qwbu",
        "outputId": "357082e7-bf60-4ecd-8658-251e93a31288"
      },
      "outputs": [
        {
          "output_type": "execute_result",
          "data": {
            "text/plain": [
              "<PIL.Image.Image image mode=RGB size=320x360 at 0x7FF13CD98DD0>"
            ],
            "image/png": "[encoded data removed]"
          },
          "metadata": {},
          "execution_count": 11
        }
      ],
      "source": [
        "img1 = imagen.apilar(\"vertical\", img1, img1)\n",
        "img1"
      ]
    },
    {
      "cell_type": "markdown",
      "metadata": {
        "id": "fOl8F5B8qwbu"
      },
      "source": [
        "#### Con distintas dimensiones"
      ]
    },
    {
      "cell_type": "code",
      "execution_count": null,
      "metadata": {
        "colab": {
          "base_uri": "https://localhost:8080/",
          "height": 137
        },
        "id": "bE7zDVbfqwbv",
        "outputId": "82894311-de05-4419-8f29-a69275228879"
      },
      "outputs": [
        {
          "output_type": "execute_result",
          "data": {
            "text/plain": [
              "<PIL.Image.Image image mode=RGB size=120x120 at 0x7FF13CD98ED0>"
            ],
            "image/png": "[encoded data removed]"
          },
          "metadata": {},
          "execution_count": 12
        }
      ],
      "source": [
        "img1 = imagen.crearCollage(4, 4, 30, 30)\n",
        "img1"
      ]
    },
    {
      "cell_type": "code",
      "execution_count": null,
      "metadata": {
        "colab": {
          "base_uri": "https://localhost:8080/",
          "height": 201
        },
        "id": "s-MVtxhsqwbv",
        "outputId": "86304c54-fa6b-425e-d681-a978fa2e7ce7"
      },
      "outputs": [
        {
          "output_type": "execute_result",
          "data": {
            "text/plain": [
              "<PIL.Image.Image image mode=RGB size=92x184 at 0x7FF13CD99B90>"
            ],
            "image/png": "[encoded data removed]"
          },
          "metadata": {},
          "execution_count": 13
        }
      ],
      "source": [
        "img2 = imagen.crearCollage(4, 8, 23, 23)\n",
        "img2"
      ]
    },
    {
      "cell_type": "code",
      "execution_count": null,
      "metadata": {
        "colab": {
          "base_uri": "https://localhost:8080/",
          "height": 201
        },
        "id": "6eD9iWqtqwbv",
        "outputId": "a99954ce-2b58-4d2d-a890-cb77b6f669ac"
      },
      "outputs": [
        {
          "output_type": "execute_result",
          "data": {
            "text/plain": [
              "<PIL.Image.Image image mode=RGB size=276x184 at 0x7FF13CD99D10>"
            ],
            "image/png": "[encoded data removed]"
          },
          "metadata": {},
          "execution_count": 14
        }
      ],
      "source": [
        "img3 = imagen.apilar(\"horizontal\", img1, img2)\n",
        "img3"
      ]
    },
    {
      "cell_type": "code",
      "execution_count": null,
      "metadata": {
        "colab": {
          "base_uri": "https://localhost:8080/",
          "height": 109
        },
        "id": "rUMgMwzPqwbw",
        "outputId": "ae185f97-5171-4797-a08c-9f3dff125136"
      },
      "outputs": [
        {
          "output_type": "execute_result",
          "data": {
            "text/plain": [
              "<PIL.Image.Image image mode=RGB size=184x92 at 0x7FF13CD99650>"
            ],
            "image/png": "[encoded data removed]"
          },
          "metadata": {},
          "execution_count": 15
        }
      ],
      "source": [
        "img2 = imagen.crearCollage(8, 4, 23, 23)\n",
        "img2\n"
      ]
    },
    {
      "cell_type": "code",
      "execution_count": null,
      "metadata": {
        "colab": {
          "base_uri": "https://localhost:8080/",
          "height": 293
        },
        "id": "vI7QzL-7qwbw",
        "outputId": "02c83c58-48e3-47d6-a96e-63d429fb0a5e"
      },
      "outputs": [
        {
          "output_type": "execute_result",
          "data": {
            "text/plain": [
              "<PIL.Image.Image image mode=RGB size=184x276 at 0x7FF13CD98390>"
            ],
            "image/png": "[encoded data removed]"
          },
          "metadata": {},
          "execution_count": 16
        }
      ],
      "source": [
        "img3 = imagen.apilar(\"vertical\", img1, img2)\n",
        "img3"
      ]
    },
    {
      "cell_type": "markdown",
      "metadata": {
        "id": "MDE15_2Wqwbx"
      },
      "source": [
        "### h) Implementa un método que apile dos imágenes horizontal o verticalmente, si las dimensiones de las imágenes no coinciden, debe adaptarlas a la imagen más ancha o más alta, deformándolas si fuera necesario."
      ]
    },
    {
      "cell_type": "code",
      "execution_count": null,
      "metadata": {
        "colab": {
          "base_uri": "https://localhost:8080/",
          "height": 137
        },
        "id": "YQSpTT2Tqwbx",
        "outputId": "9682b5a9-2aad-494a-d408-f7db910fd128"
      },
      "outputs": [
        {
          "output_type": "execute_result",
          "data": {
            "text/plain": [
              "<PIL.Image.Image image mode=RGB size=120x120 at 0x7FF13CD9C3D0>"
            ],
            "image/png": "[encoded data removed]"
          },
          "metadata": {},
          "execution_count": 17
        }
      ],
      "source": [
        "img1 = imagen.crearCollage(4, 4, 30, 30)\n",
        "img1"
      ]
    },
    {
      "cell_type": "code",
      "execution_count": null,
      "metadata": {
        "colab": {
          "base_uri": "https://localhost:8080/",
          "height": 201
        },
        "id": "8Dvxq_lbqwbz",
        "outputId": "1d30f787-8b35-4418-9bed-31b0e800bb0b"
      },
      "outputs": [
        {
          "output_type": "execute_result",
          "data": {
            "text/plain": [
              "<PIL.Image.Image image mode=RGB size=92x184 at 0x7FF13CD89150>"
            ],
            "image/png": "[encoded data removed]"
          },
          "metadata": {},
          "execution_count": 18
        }
      ],
      "source": [
        "img2 = imagen.crearCollage(4, 8, 23, 23)\n",
        "img2\n"
      ]
    },
    {
      "cell_type": "code",
      "execution_count": null,
      "metadata": {
        "colab": {
          "base_uri": "https://localhost:8080/",
          "height": 201
        },
        "id": "C3LTQ9UOqwbz",
        "outputId": "cad447a6-2511-40c5-cdf2-654e67855931"
      },
      "outputs": [
        {
          "output_type": "execute_result",
          "data": {
            "text/plain": [
              "<PIL.Image.Image image mode=RGB size=212x184 at 0x7FF13CDFC490>"
            ],
            "image/png": "[encoded data removed]"
          },
          "metadata": {},
          "execution_count": 19
        }
      ],
      "source": [
        "img3 = imagen.apilarDeforme(\"horizontal\", img1, img2)\n",
        "img3"
      ]
    },
    {
      "cell_type": "code",
      "execution_count": null,
      "metadata": {
        "colab": {
          "base_uri": "https://localhost:8080/",
          "height": 109
        },
        "id": "SB8B3e94qwb0",
        "outputId": "9a903c5a-e8de-41e3-db48-51a5ecaa6a5b"
      },
      "outputs": [
        {
          "output_type": "execute_result",
          "data": {
            "text/plain": [
              "<PIL.Image.Image image mode=RGB size=184x92 at 0x7FF13CDAA8D0>"
            ],
            "image/png": "[encoded data removed]"
          },
          "metadata": {},
          "execution_count": 20
        }
      ],
      "source": [
        "img2 = imagen.crearCollage(8, 4, 23, 23)\n",
        "img2"
      ]
    },
    {
      "cell_type": "code",
      "execution_count": null,
      "metadata": {
        "colab": {
          "base_uri": "https://localhost:8080/",
          "height": 229
        },
        "id": "dhN9TGsCqwb1",
        "outputId": "de6e935c-ac4b-4dd0-c972-47683f4c8e94"
      },
      "outputs": [
        {
          "output_type": "execute_result",
          "data": {
            "text/plain": [
              "<PIL.Image.Image image mode=RGB size=184x212 at 0x7FF13CDAAE90>"
            ],
            "image/png": "[encoded data removed]"
          },
          "metadata": {},
          "execution_count": 21
        }
      ],
      "source": [
        "img3 = imagen.apilarDeforme(\"vertical\", img1, img2)\n",
        "img3"
      ]
    },
    {
      "cell_type": "markdown",
      "metadata": {
        "id": "Jqh4vw-5qwb1"
      },
      "source": [
        "### i) Implementa un método que inserte una imagen dentro de otra imagen en la posición horizontal y vertical especificada. Si la imagen que se va a insertar no cabe entera, debe recortarla."
      ]
    },
    {
      "cell_type": "code",
      "execution_count": null,
      "metadata": {
        "colab": {
          "base_uri": "https://localhost:8080/",
          "height": 257
        },
        "id": "dbxx36ewqwb3",
        "outputId": "438efba6-82ab-4329-8b13-225b6a958747"
      },
      "outputs": [
        {
          "output_type": "execute_result",
          "data": {
            "text/plain": [
              "<PIL.Image.Image image mode=RGB size=240x240 at 0x7FF13CDADE50>"
            ],
            "image/png": "[encoded data removed]"
          },
          "metadata": {},
          "execution_count": 22
        }
      ],
      "source": [
        "img1 = imagen.crearCollage(8, 8, 30, 30)\n",
        "img1"
      ]
    },
    {
      "cell_type": "code",
      "execution_count": null,
      "metadata": {
        "colab": {
          "base_uri": "https://localhost:8080/",
          "height": 122
        },
        "id": "Xlq-LrHSqwb4",
        "outputId": "67e3cb34-37ab-4a13-e74a-444a3c2d009b"
      },
      "outputs": [
        {
          "output_type": "execute_result",
          "data": {
            "text/plain": [
              "<PIL.Image.Image image mode=RGB size=130x105 at 0x7FF13CDAA110>"
            ],
            "image/png": "[encoded data removed]"
          },
          "metadata": {},
          "execution_count": 23
        }
      ],
      "source": [
        "img2 = imagen.crearCollage(1, 3, 35, 130)\n",
        "img2"
      ]
    },
    {
      "cell_type": "code",
      "execution_count": null,
      "metadata": {
        "colab": {
          "base_uri": "https://localhost:8080/",
          "height": 257
        },
        "id": "U7CKkBRxqwb5",
        "outputId": "a9f4961d-aa03-4547-97ae-1c897aaf1f67"
      },
      "outputs": [
        {
          "output_type": "execute_result",
          "data": {
            "text/plain": [
              "<PIL.Image.Image image mode=RGB size=240x240 at 0x7FF13CD983D0>"
            ],
            "image/png": "[encoded data removed]"
          },
          "metadata": {},
          "execution_count": 24
        }
      ],
      "source": [
        "img3 = imagen.insertarImg(img1, img2, 45, 60)\n",
        "img3"
      ]
    },
    {
      "cell_type": "markdown",
      "metadata": {
        "id": "QFeldGQtqwb5"
      },
      "source": [
        "### j) Implementa un método que inserte dentro de una imagen otra imagen en la posición horizontal y vertical especificada con el ancho y el alto especificado. Si la imagen que se va a insertar no cabe entera, debe recortarla."
      ]
    },
    {
      "cell_type": "code",
      "source": [
        "img1 = imagen.crearCollage(8, 8, 30, 30)\n",
        "img1"
      ],
      "metadata": {
        "colab": {
          "base_uri": "https://localhost:8080/",
          "height": 257
        },
        "id": "LyKD7g62nSOp",
        "outputId": "ba3cf1ba-b1f6-429a-da6e-f2342cc26ee0"
      },
      "execution_count": null,
      "outputs": [
        {
          "output_type": "execute_result",
          "data": {
            "text/plain": [
              "<PIL.Image.Image image mode=RGB size=240x240 at 0x7FF13CD3C950>"
            ],
            "image/png": "[encoded data removed]"
          },
          "metadata": {},
          "execution_count": 26
        }
      ]
    },
    {
      "cell_type": "code",
      "source": [
        "img2 = imagen.crearCollage(1, 3, 35, 130)\n",
        "img2"
      ],
      "metadata": {
        "colab": {
          "base_uri": "https://localhost:8080/",
          "height": 122
        },
        "id": "EdBQHKP2oRgp",
        "outputId": "cdcee961-fcf5-41fb-cf9c-3d93ae68a636"
      },
      "execution_count": null,
      "outputs": [
        {
          "output_type": "execute_result",
          "data": {
            "text/plain": [
              "<PIL.Image.Image image mode=RGB size=130x105 at 0x7FF13C2CFD50>"
            ],
            "image/png": "[encoded data removed]"
          },
          "metadata": {},
          "execution_count": 28
        }
      ]
    },
    {
      "cell_type": "code",
      "source": [
        "img3 = imagen.insertarImgRedimensionada(img1, img2, 45, 60, 60,40)\n",
        "img3"
      ],
      "metadata": {
        "colab": {
          "base_uri": "https://localhost:8080/",
          "height": 257
        },
        "id": "H04JAReHoT1x",
        "outputId": "97d16a34-1446-4450-a1f8-72dca0962bd4"
      },
      "execution_count": null,
      "outputs": [
        {
          "output_type": "execute_result",
          "data": {
            "text/plain": [
              "<PIL.Image.Image image mode=RGB size=240x240 at 0x7FF13C2BC490>"
            ],
            "image/png": "[encoded data removed]"
          },
          "metadata": {},
          "execution_count": 35
        }
      ]
    }
  ],
  "metadata": {
    "colab": {
      "collapsed_sections": [
        "ooGSuoXBqwbl"
      ],
      "provenance": [],
      "include_colab_link": true
    },
    "kernelspec": {
      "display_name": "Python 3.10.8 64-bit",
      "language": "python",
      "name": "python3"
    },
    "language_info": {
      "codemirror_mode": {
        "name": "ipython",
        "version": 3
      },
      "file_extension": ".py",
      "mimetype": "text/x-python",
      "name": "python",
      "nbconvert_exporter": "python",
      "pygments_lexer": "ipython3",
      "version": "3.10.8"
    },
    "vscode": {
      "interpreter": {
        "hash": "aee8b7b246df8f9039afb4144a1f6fd8d2ca17a180786b69acc140d282b71a49"
      }
    }
  },
  "nbformat": 4,
  "nbformat_minor": 0
}